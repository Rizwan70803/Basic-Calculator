{
 "cells": [
  {
   "cell_type": "markdown",
   "id": "756d300b-3708-471a-bb78-332809cadf3e",
   "metadata": {},
   "source": [
    "### To read the uploaded CSV file"
   ]
  },
  {
   "cell_type": "code",
   "execution_count": 12,
   "id": "df9d023e-ca2c-4932-9242-66831ce78c44",
   "metadata": {},
   "outputs": [],
   "source": [
    "import pandas as pd\n",
    "dsdata = pd.read_csv(\"sales_data.csv\")"
   ]
  },
  {
   "cell_type": "markdown",
   "id": "df84b19f-32a9-46af-9911-4a19f11502fe",
   "metadata": {},
   "source": [
    "### To Check the rows and columns in a dataset"
   ]
  },
  {
   "cell_type": "code",
   "execution_count": 13,
   "id": "5ea1a870-1844-42c9-b1fb-53ed21e4c872",
   "metadata": {},
   "outputs": [
    {
     "data": {
      "text/plain": [
       "(5, 5)"
      ]
     },
     "execution_count": 13,
     "metadata": {},
     "output_type": "execute_result"
    }
   ],
   "source": [
    "dsdata.shape"
   ]
  },
  {
   "cell_type": "code",
   "execution_count": 14,
   "id": "54513abe-7cd1-49ac-b643-8f553dea7e3c",
   "metadata": {},
   "outputs": [
    {
     "data": {
      "text/html": [
       "<div>\n",
       "<style scoped>\n",
       "    .dataframe tbody tr th:only-of-type {\n",
       "        vertical-align: middle;\n",
       "    }\n",
       "\n",
       "    .dataframe tbody tr th {\n",
       "        vertical-align: top;\n",
       "    }\n",
       "\n",
       "    .dataframe thead th {\n",
       "        text-align: right;\n",
       "    }\n",
       "</style>\n",
       "<table border=\"1\" class=\"dataframe\">\n",
       "  <thead>\n",
       "    <tr style=\"text-align: right;\">\n",
       "      <th></th>\n",
       "      <th>SaleID</th>\n",
       "      <th>Product_ID</th>\n",
       "      <th>Quantity</th>\n",
       "      <th>Price</th>\n",
       "      <th>SaleDate</th>\n",
       "    </tr>\n",
       "  </thead>\n",
       "  <tbody>\n",
       "    <tr>\n",
       "      <th>0</th>\n",
       "      <td>1</td>\n",
       "      <td>101</td>\n",
       "      <td>2</td>\n",
       "      <td>19.99</td>\n",
       "      <td>2024-11-01</td>\n",
       "    </tr>\n",
       "    <tr>\n",
       "      <th>1</th>\n",
       "      <td>2</td>\n",
       "      <td>102</td>\n",
       "      <td>1</td>\n",
       "      <td>29.99</td>\n",
       "      <td>2024-11-02</td>\n",
       "    </tr>\n",
       "    <tr>\n",
       "      <th>2</th>\n",
       "      <td>3</td>\n",
       "      <td>103</td>\n",
       "      <td>3</td>\n",
       "      <td>NaN</td>\n",
       "      <td>2024-11-03</td>\n",
       "    </tr>\n",
       "    <tr>\n",
       "      <th>3</th>\n",
       "      <td>4</td>\n",
       "      <td>101</td>\n",
       "      <td>5</td>\n",
       "      <td>19.99</td>\n",
       "      <td>2024-11-04</td>\n",
       "    </tr>\n",
       "    <tr>\n",
       "      <th>4</th>\n",
       "      <td>5</td>\n",
       "      <td>104</td>\n",
       "      <td>2</td>\n",
       "      <td>39.99</td>\n",
       "      <td>2024-11-05</td>\n",
       "    </tr>\n",
       "  </tbody>\n",
       "</table>\n",
       "</div>"
      ],
      "text/plain": [
       "   SaleID  Product_ID  Quantity  Price    SaleDate\n",
       "0       1         101         2  19.99  2024-11-01\n",
       "1       2         102         1  29.99  2024-11-02\n",
       "2       3         103         3    NaN  2024-11-03\n",
       "3       4         101         5  19.99  2024-11-04\n",
       "4       5         104         2  39.99  2024-11-05"
      ]
     },
     "execution_count": 14,
     "metadata": {},
     "output_type": "execute_result"
    }
   ],
   "source": [
    "dsdata"
   ]
  },
  {
   "cell_type": "markdown",
   "id": "3fa33a41-fb15-4700-97ee-f69396d7b444",
   "metadata": {},
   "source": [
    "### To overview the null values and data type"
   ]
  },
  {
   "cell_type": "code",
   "execution_count": 15,
   "id": "7afcaab0-bdca-4453-9e22-658e9d980efb",
   "metadata": {},
   "outputs": [
    {
     "name": "stdout",
     "output_type": "stream",
     "text": [
      "<class 'pandas.core.frame.DataFrame'>\n",
      "RangeIndex: 5 entries, 0 to 4\n",
      "Data columns (total 5 columns):\n",
      " #   Column      Non-Null Count  Dtype  \n",
      "---  ------      --------------  -----  \n",
      " 0   SaleID      5 non-null      int64  \n",
      " 1   Product_ID  5 non-null      int64  \n",
      " 2   Quantity    5 non-null      int64  \n",
      " 3   Price       4 non-null      float64\n",
      " 4   SaleDate    5 non-null      object \n",
      "dtypes: float64(1), int64(3), object(1)\n",
      "memory usage: 332.0+ bytes\n"
     ]
    }
   ],
   "source": [
    "dsdata.info()"
   ]
  },
  {
   "cell_type": "markdown",
   "id": "7a1d5c63-fe33-46c4-bcd1-3fb4e45d7c6b",
   "metadata": {},
   "source": [
    "### To convert object in data type to String"
   ]
  },
  {
   "cell_type": "code",
   "execution_count": 16,
   "id": "02c9198e-417a-4a9d-acc8-fbb997fbacf0",
   "metadata": {},
   "outputs": [],
   "source": [
    "dsdata =dsdata.convert_dtypes()"
   ]
  },
  {
   "cell_type": "code",
   "execution_count": 17,
   "id": "9b2685ca-0aef-4957-91ea-79781f73393d",
   "metadata": {},
   "outputs": [
    {
     "name": "stdout",
     "output_type": "stream",
     "text": [
      "<class 'pandas.core.frame.DataFrame'>\n",
      "RangeIndex: 5 entries, 0 to 4\n",
      "Data columns (total 5 columns):\n",
      " #   Column      Non-Null Count  Dtype  \n",
      "---  ------      --------------  -----  \n",
      " 0   SaleID      5 non-null      Int64  \n",
      " 1   Product_ID  5 non-null      Int64  \n",
      " 2   Quantity    5 non-null      Int64  \n",
      " 3   Price       4 non-null      Float64\n",
      " 4   SaleDate    5 non-null      string \n",
      "dtypes: Float64(1), Int64(3), string(1)\n",
      "memory usage: 352.0 bytes\n"
     ]
    }
   ],
   "source": [
    "dsdata.info()"
   ]
  },
  {
   "cell_type": "markdown",
   "id": "6f85bc0f-0866-4da0-b839-ecf65b26bde4",
   "metadata": {},
   "source": [
    "### To confirm the sum of missing values"
   ]
  },
  {
   "cell_type": "code",
   "execution_count": 18,
   "id": "30588436-2bb4-4007-9855-853e1953bbd5",
   "metadata": {},
   "outputs": [
    {
     "data": {
      "text/plain": [
       "SaleID        0\n",
       "Product_ID    0\n",
       "Quantity      0\n",
       "Price         1\n",
       "SaleDate      0\n",
       "dtype: int64"
      ]
     },
     "execution_count": 18,
     "metadata": {},
     "output_type": "execute_result"
    }
   ],
   "source": [
    "dsdata.isna().sum()"
   ]
  },
  {
   "cell_type": "markdown",
   "id": "8fe23292-56da-4efa-9b49-e095543e5b08",
   "metadata": {},
   "source": [
    "### To Calcualte the mean for the missng field of the column Price"
   ]
  },
  {
   "cell_type": "code",
   "execution_count": 19,
   "id": "6a3a42a6-94d0-4242-9043-0fb1c65bdc43",
   "metadata": {},
   "outputs": [],
   "source": [
    "meanv = dsdata[\"Price\"].mean() "
   ]
  },
  {
   "cell_type": "code",
   "execution_count": 20,
   "id": "23da5191-d5bd-4834-8883-4564657737ed",
   "metadata": {},
   "outputs": [
    {
     "data": {
      "text/plain": [
       "27.490000000000002"
      ]
     },
     "execution_count": 20,
     "metadata": {},
     "output_type": "execute_result"
    }
   ],
   "source": [
    "meanv"
   ]
  },
  {
   "cell_type": "markdown",
   "id": "0ebd700a-847a-43f0-a4fc-a5ec56dcfd48",
   "metadata": {},
   "source": [
    "### To fill the missing value with the average value"
   ]
  },
  {
   "cell_type": "code",
   "execution_count": 21,
   "id": "ddd3d85c-6e5d-4cee-bbb7-afbea8a21eb8",
   "metadata": {},
   "outputs": [
    {
     "name": "stderr",
     "output_type": "stream",
     "text": [
      "C:\\Users\\rizwa\\AppData\\Local\\Temp\\ipykernel_8044\\2122611850.py:1: FutureWarning: A value is trying to be set on a copy of a DataFrame or Series through chained assignment using an inplace method.\n",
      "The behavior will change in pandas 3.0. This inplace method will never work because the intermediate object on which we are setting values always behaves as a copy.\n",
      "\n",
      "For example, when doing 'df[col].method(value, inplace=True)', try using 'df.method({col: value}, inplace=True)' or df[col] = df[col].method(value) instead, to perform the operation inplace on the original object.\n",
      "\n",
      "\n",
      "  dsdata[\"Price\"].fillna(meanv,inplace=True)\n"
     ]
    }
   ],
   "source": [
    "dsdata[\"Price\"].fillna(meanv,inplace=True)"
   ]
  },
  {
   "cell_type": "code",
   "execution_count": 22,
   "id": "e53c934c-6c25-4387-a156-3d712fd72cd6",
   "metadata": {},
   "outputs": [
    {
     "data": {
      "text/html": [
       "<div>\n",
       "<style scoped>\n",
       "    .dataframe tbody tr th:only-of-type {\n",
       "        vertical-align: middle;\n",
       "    }\n",
       "\n",
       "    .dataframe tbody tr th {\n",
       "        vertical-align: top;\n",
       "    }\n",
       "\n",
       "    .dataframe thead th {\n",
       "        text-align: right;\n",
       "    }\n",
       "</style>\n",
       "<table border=\"1\" class=\"dataframe\">\n",
       "  <thead>\n",
       "    <tr style=\"text-align: right;\">\n",
       "      <th></th>\n",
       "      <th>SaleID</th>\n",
       "      <th>Product_ID</th>\n",
       "      <th>Quantity</th>\n",
       "      <th>Price</th>\n",
       "      <th>SaleDate</th>\n",
       "    </tr>\n",
       "  </thead>\n",
       "  <tbody>\n",
       "    <tr>\n",
       "      <th>0</th>\n",
       "      <td>1</td>\n",
       "      <td>101</td>\n",
       "      <td>2</td>\n",
       "      <td>19.99</td>\n",
       "      <td>2024-11-01</td>\n",
       "    </tr>\n",
       "    <tr>\n",
       "      <th>1</th>\n",
       "      <td>2</td>\n",
       "      <td>102</td>\n",
       "      <td>1</td>\n",
       "      <td>29.99</td>\n",
       "      <td>2024-11-02</td>\n",
       "    </tr>\n",
       "    <tr>\n",
       "      <th>2</th>\n",
       "      <td>3</td>\n",
       "      <td>103</td>\n",
       "      <td>3</td>\n",
       "      <td>27.49</td>\n",
       "      <td>2024-11-03</td>\n",
       "    </tr>\n",
       "    <tr>\n",
       "      <th>3</th>\n",
       "      <td>4</td>\n",
       "      <td>101</td>\n",
       "      <td>5</td>\n",
       "      <td>19.99</td>\n",
       "      <td>2024-11-04</td>\n",
       "    </tr>\n",
       "    <tr>\n",
       "      <th>4</th>\n",
       "      <td>5</td>\n",
       "      <td>104</td>\n",
       "      <td>2</td>\n",
       "      <td>39.99</td>\n",
       "      <td>2024-11-05</td>\n",
       "    </tr>\n",
       "  </tbody>\n",
       "</table>\n",
       "</div>"
      ],
      "text/plain": [
       "   SaleID  Product_ID  Quantity  Price    SaleDate\n",
       "0       1         101         2  19.99  2024-11-01\n",
       "1       2         102         1  29.99  2024-11-02\n",
       "2       3         103         3  27.49  2024-11-03\n",
       "3       4         101         5  19.99  2024-11-04\n",
       "4       5         104         2  39.99  2024-11-05"
      ]
     },
     "execution_count": 22,
     "metadata": {},
     "output_type": "execute_result"
    }
   ],
   "source": [
    "dsdata"
   ]
  },
  {
   "cell_type": "markdown",
   "id": "c3ece4fb-a61a-4afc-a8df-b63963dc441b",
   "metadata": {},
   "source": [
    "### To check Duplicates"
   ]
  },
  {
   "cell_type": "code",
   "execution_count": 23,
   "id": "03f54350-4035-4b01-bf45-8fa55290f639",
   "metadata": {},
   "outputs": [
    {
     "data": {
      "text/plain": [
       "0"
      ]
     },
     "execution_count": 23,
     "metadata": {},
     "output_type": "execute_result"
    }
   ],
   "source": [
    "dsdata.duplicated().sum()"
   ]
  },
  {
   "cell_type": "code",
   "execution_count": 24,
   "id": "f8db2091-ace3-482e-84ee-9e257a54baaa",
   "metadata": {},
   "outputs": [
    {
     "data": {
      "text/html": [
       "<div>\n",
       "<style scoped>\n",
       "    .dataframe tbody tr th:only-of-type {\n",
       "        vertical-align: middle;\n",
       "    }\n",
       "\n",
       "    .dataframe tbody tr th {\n",
       "        vertical-align: top;\n",
       "    }\n",
       "\n",
       "    .dataframe thead th {\n",
       "        text-align: right;\n",
       "    }\n",
       "</style>\n",
       "<table border=\"1\" class=\"dataframe\">\n",
       "  <thead>\n",
       "    <tr style=\"text-align: right;\">\n",
       "      <th></th>\n",
       "      <th>SaleID</th>\n",
       "      <th>Product_ID</th>\n",
       "      <th>Quantity</th>\n",
       "      <th>Price</th>\n",
       "      <th>SaleDate</th>\n",
       "    </tr>\n",
       "  </thead>\n",
       "  <tbody>\n",
       "    <tr>\n",
       "      <th>0</th>\n",
       "      <td>1</td>\n",
       "      <td>101</td>\n",
       "      <td>2</td>\n",
       "      <td>19.99</td>\n",
       "      <td>2024-11-01</td>\n",
       "    </tr>\n",
       "    <tr>\n",
       "      <th>1</th>\n",
       "      <td>2</td>\n",
       "      <td>102</td>\n",
       "      <td>1</td>\n",
       "      <td>29.99</td>\n",
       "      <td>2024-11-02</td>\n",
       "    </tr>\n",
       "    <tr>\n",
       "      <th>2</th>\n",
       "      <td>3</td>\n",
       "      <td>103</td>\n",
       "      <td>3</td>\n",
       "      <td>27.49</td>\n",
       "      <td>2024-11-03</td>\n",
       "    </tr>\n",
       "    <tr>\n",
       "      <th>3</th>\n",
       "      <td>4</td>\n",
       "      <td>101</td>\n",
       "      <td>5</td>\n",
       "      <td>19.99</td>\n",
       "      <td>2024-11-04</td>\n",
       "    </tr>\n",
       "    <tr>\n",
       "      <th>4</th>\n",
       "      <td>5</td>\n",
       "      <td>104</td>\n",
       "      <td>2</td>\n",
       "      <td>39.99</td>\n",
       "      <td>2024-11-05</td>\n",
       "    </tr>\n",
       "  </tbody>\n",
       "</table>\n",
       "</div>"
      ],
      "text/plain": [
       "   SaleID  Product_ID  Quantity  Price    SaleDate\n",
       "0       1         101         2  19.99  2024-11-01\n",
       "1       2         102         1  29.99  2024-11-02\n",
       "2       3         103         3  27.49  2024-11-03\n",
       "3       4         101         5  19.99  2024-11-04\n",
       "4       5         104         2  39.99  2024-11-05"
      ]
     },
     "execution_count": 24,
     "metadata": {},
     "output_type": "execute_result"
    }
   ],
   "source": [
    "dsdata"
   ]
  },
  {
   "cell_type": "markdown",
   "id": "d79cc858-77f5-4294-82f5-f19bd0981b35",
   "metadata": {},
   "source": [
    "### To Read the Excel File"
   ]
  },
  {
   "cell_type": "code",
   "execution_count": 25,
   "id": "c189df24-5fd8-4ab6-a618-e77bc391f1d8",
   "metadata": {},
   "outputs": [],
   "source": [
    "import pandas as pd\n",
    "dsdata1 = pd.read_excel(\"product_inventory.xlsx\")"
   ]
  },
  {
   "cell_type": "code",
   "execution_count": 26,
   "id": "92083307-6a67-40af-a6e6-ae08f30b198a",
   "metadata": {},
   "outputs": [
    {
     "data": {
      "text/html": [
       "<div>\n",
       "<style scoped>\n",
       "    .dataframe tbody tr th:only-of-type {\n",
       "        vertical-align: middle;\n",
       "    }\n",
       "\n",
       "    .dataframe tbody tr th {\n",
       "        vertical-align: top;\n",
       "    }\n",
       "\n",
       "    .dataframe thead th {\n",
       "        text-align: right;\n",
       "    }\n",
       "</style>\n",
       "<table border=\"1\" class=\"dataframe\">\n",
       "  <thead>\n",
       "    <tr style=\"text-align: right;\">\n",
       "      <th></th>\n",
       "      <th>ProductID</th>\n",
       "      <th>ProductName</th>\n",
       "      <th>Stock</th>\n",
       "    </tr>\n",
       "  </thead>\n",
       "  <tbody>\n",
       "    <tr>\n",
       "      <th>0</th>\n",
       "      <td>101</td>\n",
       "      <td>Widget A</td>\n",
       "      <td>10</td>\n",
       "    </tr>\n",
       "    <tr>\n",
       "      <th>1</th>\n",
       "      <td>102</td>\n",
       "      <td>Gadget B</td>\n",
       "      <td>5</td>\n",
       "    </tr>\n",
       "    <tr>\n",
       "      <th>2</th>\n",
       "      <td>103</td>\n",
       "      <td>Thingamajig C</td>\n",
       "      <td>7</td>\n",
       "    </tr>\n",
       "    <tr>\n",
       "      <th>3</th>\n",
       "      <td>104</td>\n",
       "      <td>Doohickey D</td>\n",
       "      <td>8</td>\n",
       "    </tr>\n",
       "    <tr>\n",
       "      <th>4</th>\n",
       "      <td>105</td>\n",
       "      <td>Contraption E</td>\n",
       "      <td>3</td>\n",
       "    </tr>\n",
       "  </tbody>\n",
       "</table>\n",
       "</div>"
      ],
      "text/plain": [
       "   ProductID    ProductName  Stock\n",
       "0        101       Widget A     10\n",
       "1        102       Gadget B      5\n",
       "2        103  Thingamajig C      7\n",
       "3        104    Doohickey D      8\n",
       "4        105  Contraption E      3"
      ]
     },
     "execution_count": 26,
     "metadata": {},
     "output_type": "execute_result"
    }
   ],
   "source": [
    "dsdata1"
   ]
  },
  {
   "cell_type": "code",
   "execution_count": 27,
   "id": "5daf8170-fdf0-4cff-9cc0-75b818c84cae",
   "metadata": {},
   "outputs": [
    {
     "name": "stdout",
     "output_type": "stream",
     "text": [
      "<class 'pandas.core.frame.DataFrame'>\n",
      "RangeIndex: 5 entries, 0 to 4\n",
      "Data columns (total 3 columns):\n",
      " #   Column       Non-Null Count  Dtype \n",
      "---  ------       --------------  ----- \n",
      " 0   ProductID    5 non-null      int64 \n",
      " 1   ProductName  5 non-null      object\n",
      " 2   Stock        5 non-null      int64 \n",
      "dtypes: int64(2), object(1)\n",
      "memory usage: 252.0+ bytes\n"
     ]
    }
   ],
   "source": [
    "dsdata1.info()"
   ]
  },
  {
   "cell_type": "markdown",
   "id": "425a13e8-bdc2-485d-9696-c8e7afc8246e",
   "metadata": {},
   "source": [
    "### To change the object to string in Dtype column  "
   ]
  },
  {
   "cell_type": "code",
   "execution_count": 28,
   "id": "7e0ca696-db23-444d-bf8d-cdf30284d59f",
   "metadata": {},
   "outputs": [],
   "source": [
    "dsdata1 = dsdata1.convert_dtypes()"
   ]
  },
  {
   "cell_type": "code",
   "execution_count": 29,
   "id": "0ebaaa57-69d7-4bf3-bc2f-f6798b7213b3",
   "metadata": {},
   "outputs": [
    {
     "name": "stdout",
     "output_type": "stream",
     "text": [
      "<class 'pandas.core.frame.DataFrame'>\n",
      "RangeIndex: 5 entries, 0 to 4\n",
      "Data columns (total 3 columns):\n",
      " #   Column       Non-Null Count  Dtype \n",
      "---  ------       --------------  ----- \n",
      " 0   ProductID    5 non-null      Int64 \n",
      " 1   ProductName  5 non-null      string\n",
      " 2   Stock        5 non-null      Int64 \n",
      "dtypes: Int64(2), string(1)\n",
      "memory usage: 262.0 bytes\n"
     ]
    }
   ],
   "source": [
    "dsdata1.info()"
   ]
  },
  {
   "cell_type": "markdown",
   "id": "60ec7f19-c5e0-4c6d-b77c-1ac52a83fdd3",
   "metadata": {},
   "source": [
    "### To rename the column to aligned with Salesdata column"
   ]
  },
  {
   "cell_type": "code",
   "execution_count": 30,
   "id": "e0d37f73-8c81-437e-8d64-a82c94d83cb8",
   "metadata": {},
   "outputs": [],
   "source": [
    "dsdata1.rename(columns={\"ProductID\" : \"Product_ID\"} , inplace = True)"
   ]
  },
  {
   "cell_type": "code",
   "execution_count": 31,
   "id": "a425ae5c-420e-455a-926d-aebee5a2ed08",
   "metadata": {},
   "outputs": [
    {
     "data": {
      "text/html": [
       "<div>\n",
       "<style scoped>\n",
       "    .dataframe tbody tr th:only-of-type {\n",
       "        vertical-align: middle;\n",
       "    }\n",
       "\n",
       "    .dataframe tbody tr th {\n",
       "        vertical-align: top;\n",
       "    }\n",
       "\n",
       "    .dataframe thead th {\n",
       "        text-align: right;\n",
       "    }\n",
       "</style>\n",
       "<table border=\"1\" class=\"dataframe\">\n",
       "  <thead>\n",
       "    <tr style=\"text-align: right;\">\n",
       "      <th></th>\n",
       "      <th>Product_ID</th>\n",
       "      <th>ProductName</th>\n",
       "      <th>Stock</th>\n",
       "    </tr>\n",
       "  </thead>\n",
       "  <tbody>\n",
       "    <tr>\n",
       "      <th>0</th>\n",
       "      <td>101</td>\n",
       "      <td>Widget A</td>\n",
       "      <td>10</td>\n",
       "    </tr>\n",
       "    <tr>\n",
       "      <th>1</th>\n",
       "      <td>102</td>\n",
       "      <td>Gadget B</td>\n",
       "      <td>5</td>\n",
       "    </tr>\n",
       "    <tr>\n",
       "      <th>2</th>\n",
       "      <td>103</td>\n",
       "      <td>Thingamajig C</td>\n",
       "      <td>7</td>\n",
       "    </tr>\n",
       "    <tr>\n",
       "      <th>3</th>\n",
       "      <td>104</td>\n",
       "      <td>Doohickey D</td>\n",
       "      <td>8</td>\n",
       "    </tr>\n",
       "    <tr>\n",
       "      <th>4</th>\n",
       "      <td>105</td>\n",
       "      <td>Contraption E</td>\n",
       "      <td>3</td>\n",
       "    </tr>\n",
       "  </tbody>\n",
       "</table>\n",
       "</div>"
      ],
      "text/plain": [
       "   Product_ID    ProductName  Stock\n",
       "0         101       Widget A     10\n",
       "1         102       Gadget B      5\n",
       "2         103  Thingamajig C      7\n",
       "3         104    Doohickey D      8\n",
       "4         105  Contraption E      3"
      ]
     },
     "execution_count": 31,
     "metadata": {},
     "output_type": "execute_result"
    }
   ],
   "source": [
    "dsdata1"
   ]
  },
  {
   "cell_type": "code",
   "execution_count": 32,
   "id": "d222c92c-f21e-44c2-b26b-0d799119d231",
   "metadata": {},
   "outputs": [
    {
     "data": {
      "text/plain": [
       "0"
      ]
     },
     "execution_count": 32,
     "metadata": {},
     "output_type": "execute_result"
    }
   ],
   "source": [
    "dsdata1.duplicated().sum()"
   ]
  },
  {
   "cell_type": "code",
   "execution_count": 33,
   "id": "0d9c4f47-1732-4027-ae3a-b8b294bad27d",
   "metadata": {},
   "outputs": [],
   "source": [
    "merged_data = pd.merge(dsdata, dsdata1, on='Product_ID', how='left') "
   ]
  },
  {
   "cell_type": "markdown",
   "id": "8d04ce92-6cd7-4c18-ab56-6ea85a920a56",
   "metadata": {},
   "source": [
    "### To merge the data"
   ]
  },
  {
   "cell_type": "code",
   "execution_count": 34,
   "id": "5953eb1a-cdde-42f4-af09-524834b58568",
   "metadata": {},
   "outputs": [
    {
     "data": {
      "text/html": [
       "<div>\n",
       "<style scoped>\n",
       "    .dataframe tbody tr th:only-of-type {\n",
       "        vertical-align: middle;\n",
       "    }\n",
       "\n",
       "    .dataframe tbody tr th {\n",
       "        vertical-align: top;\n",
       "    }\n",
       "\n",
       "    .dataframe thead th {\n",
       "        text-align: right;\n",
       "    }\n",
       "</style>\n",
       "<table border=\"1\" class=\"dataframe\">\n",
       "  <thead>\n",
       "    <tr style=\"text-align: right;\">\n",
       "      <th></th>\n",
       "      <th>SaleID</th>\n",
       "      <th>Product_ID</th>\n",
       "      <th>Quantity</th>\n",
       "      <th>Price</th>\n",
       "      <th>SaleDate</th>\n",
       "      <th>ProductName</th>\n",
       "      <th>Stock</th>\n",
       "    </tr>\n",
       "  </thead>\n",
       "  <tbody>\n",
       "    <tr>\n",
       "      <th>0</th>\n",
       "      <td>1</td>\n",
       "      <td>101</td>\n",
       "      <td>2</td>\n",
       "      <td>19.99</td>\n",
       "      <td>2024-11-01</td>\n",
       "      <td>Widget A</td>\n",
       "      <td>10</td>\n",
       "    </tr>\n",
       "    <tr>\n",
       "      <th>1</th>\n",
       "      <td>2</td>\n",
       "      <td>102</td>\n",
       "      <td>1</td>\n",
       "      <td>29.99</td>\n",
       "      <td>2024-11-02</td>\n",
       "      <td>Gadget B</td>\n",
       "      <td>5</td>\n",
       "    </tr>\n",
       "    <tr>\n",
       "      <th>2</th>\n",
       "      <td>3</td>\n",
       "      <td>103</td>\n",
       "      <td>3</td>\n",
       "      <td>27.49</td>\n",
       "      <td>2024-11-03</td>\n",
       "      <td>Thingamajig C</td>\n",
       "      <td>7</td>\n",
       "    </tr>\n",
       "    <tr>\n",
       "      <th>3</th>\n",
       "      <td>4</td>\n",
       "      <td>101</td>\n",
       "      <td>5</td>\n",
       "      <td>19.99</td>\n",
       "      <td>2024-11-04</td>\n",
       "      <td>Widget A</td>\n",
       "      <td>10</td>\n",
       "    </tr>\n",
       "    <tr>\n",
       "      <th>4</th>\n",
       "      <td>5</td>\n",
       "      <td>104</td>\n",
       "      <td>2</td>\n",
       "      <td>39.99</td>\n",
       "      <td>2024-11-05</td>\n",
       "      <td>Doohickey D</td>\n",
       "      <td>8</td>\n",
       "    </tr>\n",
       "  </tbody>\n",
       "</table>\n",
       "</div>"
      ],
      "text/plain": [
       "   SaleID  Product_ID  Quantity  Price    SaleDate    ProductName  Stock\n",
       "0       1         101         2  19.99  2024-11-01       Widget A     10\n",
       "1       2         102         1  29.99  2024-11-02       Gadget B      5\n",
       "2       3         103         3  27.49  2024-11-03  Thingamajig C      7\n",
       "3       4         101         5  19.99  2024-11-04       Widget A     10\n",
       "4       5         104         2  39.99  2024-11-05    Doohickey D      8"
      ]
     },
     "execution_count": 34,
     "metadata": {},
     "output_type": "execute_result"
    }
   ],
   "source": [
    "merged_data"
   ]
  },
  {
   "cell_type": "markdown",
   "id": "d2846f79-fbf4-4300-a181-184f2adabe3c",
   "metadata": {},
   "source": [
    "### TODO: Group by products names and calculate total quantities sold and prices for each product."
   ]
  },
  {
   "cell_type": "code",
   "execution_count": 35,
   "id": "8b09adf3-4d0c-4da7-90c3-74f2157a3f9c",
   "metadata": {},
   "outputs": [],
   "source": [
    "grouped_data = merged_data.groupby('ProductName').agg({'Price': 'sum', 'Quantity': 'sum'})"
   ]
  },
  {
   "cell_type": "code",
   "execution_count": 36,
   "id": "b7365abc-48f7-4cd0-a700-89eac767ffa6",
   "metadata": {},
   "outputs": [
    {
     "data": {
      "text/html": [
       "<div>\n",
       "<style scoped>\n",
       "    .dataframe tbody tr th:only-of-type {\n",
       "        vertical-align: middle;\n",
       "    }\n",
       "\n",
       "    .dataframe tbody tr th {\n",
       "        vertical-align: top;\n",
       "    }\n",
       "\n",
       "    .dataframe thead th {\n",
       "        text-align: right;\n",
       "    }\n",
       "</style>\n",
       "<table border=\"1\" class=\"dataframe\">\n",
       "  <thead>\n",
       "    <tr style=\"text-align: right;\">\n",
       "      <th></th>\n",
       "      <th>Price</th>\n",
       "      <th>Quantity</th>\n",
       "    </tr>\n",
       "    <tr>\n",
       "      <th>ProductName</th>\n",
       "      <th></th>\n",
       "      <th></th>\n",
       "    </tr>\n",
       "  </thead>\n",
       "  <tbody>\n",
       "    <tr>\n",
       "      <th>Doohickey D</th>\n",
       "      <td>39.99</td>\n",
       "      <td>2</td>\n",
       "    </tr>\n",
       "    <tr>\n",
       "      <th>Gadget B</th>\n",
       "      <td>29.99</td>\n",
       "      <td>1</td>\n",
       "    </tr>\n",
       "    <tr>\n",
       "      <th>Thingamajig C</th>\n",
       "      <td>27.49</td>\n",
       "      <td>3</td>\n",
       "    </tr>\n",
       "    <tr>\n",
       "      <th>Widget A</th>\n",
       "      <td>39.98</td>\n",
       "      <td>7</td>\n",
       "    </tr>\n",
       "  </tbody>\n",
       "</table>\n",
       "</div>"
      ],
      "text/plain": [
       "               Price  Quantity\n",
       "ProductName                   \n",
       "Doohickey D    39.99         2\n",
       "Gadget B       29.99         1\n",
       "Thingamajig C  27.49         3\n",
       "Widget A       39.98         7"
      ]
     },
     "execution_count": 36,
     "metadata": {},
     "output_type": "execute_result"
    }
   ],
   "source": [
    "grouped_data "
   ]
  },
  {
   "cell_type": "markdown",
   "id": "9ba7b68b-4aba-4193-941b-937846376299",
   "metadata": {},
   "source": [
    "### Create a pivot table to summarise the quantity of products sold on each date, with product names as rows and dates as columns."
   ]
  },
  {
   "cell_type": "code",
   "execution_count": 37,
   "id": "5ccc2468-31c7-4f88-b3bc-e213077ec64d",
   "metadata": {},
   "outputs": [],
   "source": [
    "pivot_table = merged_data.pivot_table(index='ProductName', columns='SaleDate', values='Quantity', aggfunc='sum') "
   ]
  },
  {
   "cell_type": "code",
   "execution_count": 38,
   "id": "d146c0f3-197d-43c9-babb-d655a2484d21",
   "metadata": {},
   "outputs": [
    {
     "data": {
      "text/html": [
       "<div>\n",
       "<style scoped>\n",
       "    .dataframe tbody tr th:only-of-type {\n",
       "        vertical-align: middle;\n",
       "    }\n",
       "\n",
       "    .dataframe tbody tr th {\n",
       "        vertical-align: top;\n",
       "    }\n",
       "\n",
       "    .dataframe thead th {\n",
       "        text-align: right;\n",
       "    }\n",
       "</style>\n",
       "<table border=\"1\" class=\"dataframe\">\n",
       "  <thead>\n",
       "    <tr style=\"text-align: right;\">\n",
       "      <th>SaleDate</th>\n",
       "      <th>2024-11-01</th>\n",
       "      <th>2024-11-02</th>\n",
       "      <th>2024-11-03</th>\n",
       "      <th>2024-11-04</th>\n",
       "      <th>2024-11-05</th>\n",
       "    </tr>\n",
       "    <tr>\n",
       "      <th>ProductName</th>\n",
       "      <th></th>\n",
       "      <th></th>\n",
       "      <th></th>\n",
       "      <th></th>\n",
       "      <th></th>\n",
       "    </tr>\n",
       "  </thead>\n",
       "  <tbody>\n",
       "    <tr>\n",
       "      <th>Doohickey D</th>\n",
       "      <td>&lt;NA&gt;</td>\n",
       "      <td>&lt;NA&gt;</td>\n",
       "      <td>&lt;NA&gt;</td>\n",
       "      <td>&lt;NA&gt;</td>\n",
       "      <td>2</td>\n",
       "    </tr>\n",
       "    <tr>\n",
       "      <th>Gadget B</th>\n",
       "      <td>&lt;NA&gt;</td>\n",
       "      <td>1</td>\n",
       "      <td>&lt;NA&gt;</td>\n",
       "      <td>&lt;NA&gt;</td>\n",
       "      <td>&lt;NA&gt;</td>\n",
       "    </tr>\n",
       "    <tr>\n",
       "      <th>Thingamajig C</th>\n",
       "      <td>&lt;NA&gt;</td>\n",
       "      <td>&lt;NA&gt;</td>\n",
       "      <td>3</td>\n",
       "      <td>&lt;NA&gt;</td>\n",
       "      <td>&lt;NA&gt;</td>\n",
       "    </tr>\n",
       "    <tr>\n",
       "      <th>Widget A</th>\n",
       "      <td>2</td>\n",
       "      <td>&lt;NA&gt;</td>\n",
       "      <td>&lt;NA&gt;</td>\n",
       "      <td>5</td>\n",
       "      <td>&lt;NA&gt;</td>\n",
       "    </tr>\n",
       "  </tbody>\n",
       "</table>\n",
       "</div>"
      ],
      "text/plain": [
       "SaleDate       2024-11-01  2024-11-02  2024-11-03  2024-11-04  2024-11-05\n",
       "ProductName                                                              \n",
       "Doohickey D          <NA>        <NA>        <NA>        <NA>           2\n",
       "Gadget B             <NA>           1        <NA>        <NA>        <NA>\n",
       "Thingamajig C        <NA>        <NA>           3        <NA>        <NA>\n",
       "Widget A                2        <NA>        <NA>           5        <NA>"
      ]
     },
     "execution_count": 38,
     "metadata": {},
     "output_type": "execute_result"
    }
   ],
   "source": [
    "pivot_table"
   ]
  },
  {
   "cell_type": "markdown",
   "id": "cc485404-3ddb-47dd-aa18-a022423682f1",
   "metadata": {},
   "source": [
    "### Replace NaN values with empty strings"
   ]
  },
  {
   "cell_type": "code",
   "execution_count": 39,
   "id": "64686646-34a9-486c-8122-305c736792d1",
   "metadata": {},
   "outputs": [],
   "source": [
    "pivot_table = pivot_table.astype(\"string\").fillna('')"
   ]
  },
  {
   "cell_type": "code",
   "execution_count": 40,
   "id": "5c7fdfce-23d4-4002-9429-54f9108ac179",
   "metadata": {},
   "outputs": [
    {
     "data": {
      "text/html": [
       "<div>\n",
       "<style scoped>\n",
       "    .dataframe tbody tr th:only-of-type {\n",
       "        vertical-align: middle;\n",
       "    }\n",
       "\n",
       "    .dataframe tbody tr th {\n",
       "        vertical-align: top;\n",
       "    }\n",
       "\n",
       "    .dataframe thead th {\n",
       "        text-align: right;\n",
       "    }\n",
       "</style>\n",
       "<table border=\"1\" class=\"dataframe\">\n",
       "  <thead>\n",
       "    <tr style=\"text-align: right;\">\n",
       "      <th>SaleDate</th>\n",
       "      <th>2024-11-01</th>\n",
       "      <th>2024-11-02</th>\n",
       "      <th>2024-11-03</th>\n",
       "      <th>2024-11-04</th>\n",
       "      <th>2024-11-05</th>\n",
       "    </tr>\n",
       "    <tr>\n",
       "      <th>ProductName</th>\n",
       "      <th></th>\n",
       "      <th></th>\n",
       "      <th></th>\n",
       "      <th></th>\n",
       "      <th></th>\n",
       "    </tr>\n",
       "  </thead>\n",
       "  <tbody>\n",
       "    <tr>\n",
       "      <th>Doohickey D</th>\n",
       "      <td></td>\n",
       "      <td></td>\n",
       "      <td></td>\n",
       "      <td></td>\n",
       "      <td>2</td>\n",
       "    </tr>\n",
       "    <tr>\n",
       "      <th>Gadget B</th>\n",
       "      <td></td>\n",
       "      <td>1</td>\n",
       "      <td></td>\n",
       "      <td></td>\n",
       "      <td></td>\n",
       "    </tr>\n",
       "    <tr>\n",
       "      <th>Thingamajig C</th>\n",
       "      <td></td>\n",
       "      <td></td>\n",
       "      <td>3</td>\n",
       "      <td></td>\n",
       "      <td></td>\n",
       "    </tr>\n",
       "    <tr>\n",
       "      <th>Widget A</th>\n",
       "      <td>2</td>\n",
       "      <td></td>\n",
       "      <td></td>\n",
       "      <td>5</td>\n",
       "      <td></td>\n",
       "    </tr>\n",
       "  </tbody>\n",
       "</table>\n",
       "</div>"
      ],
      "text/plain": [
       "SaleDate      2024-11-01 2024-11-02 2024-11-03 2024-11-04 2024-11-05\n",
       "ProductName                                                         \n",
       "Doohickey D                                                        2\n",
       "Gadget B                          1                                 \n",
       "Thingamajig C                                3                      \n",
       "Widget A               2                                5           "
      ]
     },
     "execution_count": 40,
     "metadata": {},
     "output_type": "execute_result"
    }
   ],
   "source": [
    "pivot_table"
   ]
  },
  {
   "cell_type": "code",
   "execution_count": null,
   "id": "d490e48b-3e32-4c26-b5e7-2ad732c1858a",
   "metadata": {},
   "outputs": [],
   "source": []
  }
 ],
 "metadata": {
  "kernelspec": {
   "display_name": "Python 3 (ipykernel)",
   "language": "python",
   "name": "python3"
  },
  "language_info": {
   "codemirror_mode": {
    "name": "ipython",
    "version": 3
   },
   "file_extension": ".py",
   "mimetype": "text/x-python",
   "name": "python",
   "nbconvert_exporter": "python",
   "pygments_lexer": "ipython3",
   "version": "3.12.7"
  }
 },
 "nbformat": 4,
 "nbformat_minor": 5
}
