{
 "cells": [
  {
   "cell_type": "code",
   "execution_count": 6,
   "id": "e2490ff9-ea10-4c90-975a-bc7dc2f7c67e",
   "metadata": {},
   "outputs": [
    {
     "name": "stdin",
     "output_type": "stream",
     "text": [
      "Enter the first number: 5\n",
      "Enter the seond number: 6\n"
     ]
    },
    {
     "name": "stdout",
     "output_type": "stream",
     "text": [
      "11\n"
     ]
    }
   ],
   "source": [
    "Num1 = int(input(\"Enter the first number:\"))\n",
    "Num2 = int(input(\"Enter the seond number:\"))\n",
    "Result = Num1 + Num2\n",
    "print(Result)"
   ]
  },
  {
   "cell_type": "code",
   "execution_count": 7,
   "id": "122222dd-aa7d-4ce8-8261-87c0d8fad0f1",
   "metadata": {},
   "outputs": [
    {
     "name": "stdin",
     "output_type": "stream",
     "text": [
      "Enter the first number: 3\n",
      "Enter the seond number: 5\n"
     ]
    },
    {
     "name": "stdout",
     "output_type": "stream",
     "text": [
      "2\n"
     ]
    }
   ],
   "source": [
    "Num1 = int(input(\"Enter the first number:\"))\n",
    "Num2 = int(input(\"Enter the seond number:\"))\n",
    "Result = Num2 - Num1\n",
    "print(Result)"
   ]
  },
  {
   "cell_type": "code",
   "execution_count": 8,
   "id": "1817f9fc-099b-42e6-82c9-fdc16d6eb9a8",
   "metadata": {},
   "outputs": [
    {
     "name": "stdin",
     "output_type": "stream",
     "text": [
      "Enter the first number: 3\n",
      "Enter the seond number: 5\n"
     ]
    },
    {
     "name": "stdout",
     "output_type": "stream",
     "text": [
      "15\n"
     ]
    }
   ],
   "source": [
    "Num1 = int(input(\"Enter the first number:\"))\n",
    "Num2 = int(input(\"Enter the seond number:\"))\n",
    "Result = Num1 * Num2\n",
    "print(Result)"
   ]
  },
  {
   "cell_type": "code",
   "execution_count": 10,
   "id": "964ab733-d1b6-48fe-afdd-6e57e81f5846",
   "metadata": {},
   "outputs": [
    {
     "name": "stdin",
     "output_type": "stream",
     "text": [
      "Enter the first number: 10\n",
      "Enter the seond number: 2\n"
     ]
    },
    {
     "name": "stdout",
     "output_type": "stream",
     "text": [
      "5\n"
     ]
    }
   ],
   "source": [
    "Num1 = int(input(\"Enter the first number:\"))\n",
    "Num2 = int(input(\"Enter the seond number:\"))\n",
    "Result = int(Num1 / Num2)\n",
    "print(Result)"
   ]
  },
  {
   "cell_type": "code",
   "execution_count": 11,
   "id": "d73d00d7-a654-4777-b39d-1d5e5089728d",
   "metadata": {},
   "outputs": [
    {
     "name": "stdout",
     "output_type": "stream",
     "text": [
      "1\n",
      "Fizz\n",
      "3\n",
      "Fizz\n",
      "Buzz\n",
      "Fizz\n",
      "7\n",
      "Fizz\n",
      "9\n",
      "FizzBuzz\n",
      "11\n",
      "Fizz\n",
      "13\n",
      "Fizz\n",
      "Buzz\n",
      "Fizz\n",
      "17\n",
      "Fizz\n",
      "19\n",
      "FizzBuzz\n",
      "21\n",
      "Fizz\n",
      "23\n",
      "Fizz\n",
      "Buzz\n",
      "Fizz\n",
      "27\n",
      "Fizz\n",
      "29\n",
      "FizzBuzz\n",
      "31\n",
      "Fizz\n",
      "33\n",
      "Fizz\n",
      "Buzz\n",
      "Fizz\n",
      "37\n",
      "Fizz\n",
      "39\n",
      "FizzBuzz\n",
      "41\n",
      "Fizz\n",
      "43\n",
      "Fizz\n",
      "Buzz\n",
      "Fizz\n",
      "47\n",
      "Fizz\n",
      "49\n",
      "FizzBuzz\n",
      "51\n",
      "Fizz\n",
      "53\n",
      "Fizz\n",
      "Buzz\n",
      "Fizz\n",
      "57\n",
      "Fizz\n",
      "59\n",
      "FizzBuzz\n",
      "61\n",
      "Fizz\n",
      "63\n",
      "Fizz\n",
      "Buzz\n",
      "Fizz\n",
      "67\n",
      "Fizz\n",
      "69\n",
      "FizzBuzz\n",
      "71\n",
      "Fizz\n",
      "73\n",
      "Fizz\n",
      "Buzz\n",
      "Fizz\n",
      "77\n",
      "Fizz\n",
      "79\n",
      "FizzBuzz\n",
      "81\n",
      "Fizz\n",
      "83\n",
      "Fizz\n",
      "Buzz\n",
      "Fizz\n",
      "87\n",
      "Fizz\n",
      "89\n",
      "FizzBuzz\n",
      "91\n",
      "Fizz\n",
      "93\n",
      "Fizz\n",
      "Buzz\n",
      "Fizz\n",
      "97\n",
      "Fizz\n",
      "99\n"
     ]
    }
   ],
   "source": [
    "for i in range ( 1,100):\n",
    "    if i % 2 ==0 and i % 5== 0:\n",
    "        print(\"FizzBuzz\")\n",
    "    elif i % 2 == 0:\n",
    "         print(\"Fizz\")\n",
    "    elif i % 5 == 0:\n",
    "        print(\"Buzz\")\n",
    "    else:\n",
    "        print(i)\n",
    "    \n",
    "                  \n"
   ]
  },
  {
   "cell_type": "code",
   "execution_count": 14,
   "id": "103913d5-5c58-4e16-9f80-10ec37c4a9e4",
   "metadata": {},
   "outputs": [
    {
     "name": "stdin",
     "output_type": "stream",
     "text": [
      "Enter the first number: 3\n",
      "Enter the second number: 5\n",
      "Enter the third number: 6\n",
      "Input any of these operations +,-,*,/ +\n"
     ]
    },
    {
     "name": "stdout",
     "output_type": "stream",
     "text": [
      "8\n"
     ]
    }
   ],
   "source": [
    "num1 = int(input(\"Enter the first number:\"))\n",
    "num2 = int(input(\"Enter the second number:\"))\n",
    "num3 = int(input(\"Enter the third number:\"))\n",
    "operation=input(\"Input any of these operations +,-,*,/\")\n",
    "#Implementing if these conditions\n",
    "if operation == '+':\n",
    "    print(num1 + num2)\n",
    "elif operation == '-':\n",
    "    print(num1-num2)\n",
    "elif operation == '*':\n",
    "    print(num1*-num2)\n",
    "elif operation == '/':\n",
    "    print(num1/2)\n",
    "else :\n",
    "    print(\"Enter the correct number\")   \n",
    "    "
   ]
  },
  {
   "cell_type": "code",
   "execution_count": 16,
   "id": "a23374b5-798d-4311-a2c3-5fa5bb1d7109",
   "metadata": {},
   "outputs": [],
   "source": [
    "def basic_cal():\n",
    "    num1 = int(input(\"Enter the first number: \"))\n",
    "    num2 = int(input(\"Enter the second number: \"))\n",
    "    result = num1 + num2\n",
    "    print(result)\n",
    "\n",
    "\n"
   ]
  },
  {
   "cell_type": "code",
   "execution_count": 17,
   "id": "22d2b79f-6c45-44ce-9f23-b477d23af920",
   "metadata": {},
   "outputs": [
    {
     "name": "stdin",
     "output_type": "stream",
     "text": [
      "Enter the first number:  3\n",
      "Enter the second number:  2\n"
     ]
    },
    {
     "name": "stdout",
     "output_type": "stream",
     "text": [
      "5\n"
     ]
    }
   ],
   "source": [
    "basic_cal()"
   ]
  },
  {
   "cell_type": "code",
   "execution_count": 36,
   "id": "6a64e1ec-7c54-41ca-93b8-7d619332680e",
   "metadata": {},
   "outputs": [],
   "source": [
    "def Cal():\n",
    "    num1=int(input(\"Enter the first num :\"))\n",
    "    num2=int(input(\"Enter the second num :\"))\n",
    "    choice = input(\"Enter the operator +,-,*,/\")\n",
    "    if choice == '+':\n",
    "        sumNum()\n",
    "    elif choice =='-':\n",
    "        subNum()\n",
    "    elif choice == '*':\n",
    "        mulNum()\n",
    "    elif choice =='/':\n",
    "         divNum()\n",
    "    else:\n",
    "        print(\"Enter the correct operator\")\n",
    "def sumNum():\n",
    "    print(num1+num2)\n",
    "def subNum():\n",
    "    print(num1-num2)\n",
    "def mulNum():\n",
    "    print(num1*num2)\n",
    "def divNum():\n",
    "    print(num1/num2)\n",
    "    \n",
    "\n",
    "        "
   ]
  },
  {
   "cell_type": "code",
   "execution_count": 41,
   "id": "e16ecfe9-5b7c-48b1-aed6-688158a9f401",
   "metadata": {},
   "outputs": [
    {
     "name": "stdin",
     "output_type": "stream",
     "text": [
      "Enter the first num : 2\n",
      "Enter the second num : 2\n",
      "Enter the operator +,-,*,/ +\n"
     ]
    },
    {
     "name": "stdout",
     "output_type": "stream",
     "text": [
      "8\n"
     ]
    }
   ],
   "source": [
    "Cal()\n"
   ]
  },
  {
   "cell_type": "code",
   "execution_count": 26,
   "id": "b8b2adc2-1b4c-4d2b-b2f8-65ee66de189f",
   "metadata": {},
   "outputs": [],
   "source": [
    "import requests\n",
    "def trivia_fetch(num):\n",
    "    url=f'http://numbersapi.com/{num}?json'\n",
    "    response=requests.get(url)\n",
    "    return response.json()\n",
    "def main():\n",
    "    print(\"Hello learners!\")\n",
    "    num=input(\"Enter the num :\")\n",
    "    trivia=trivia_fetch(num)\n",
    "    print(f\"Trivia {num} :{ trivia['text']}\")\n"
   ]
  },
  {
   "cell_type": "code",
   "execution_count": 27,
   "id": "b89fa202-6ac8-48b4-80af-bb962b107056",
   "metadata": {},
   "outputs": [
    {
     "name": "stdout",
     "output_type": "stream",
     "text": [
      "Hello learners!\n"
     ]
    },
    {
     "name": "stdin",
     "output_type": "stream",
     "text": [
      "Enter the num : 42\n"
     ]
    },
    {
     "name": "stdout",
     "output_type": "stream",
     "text": [
      "Trivia 42 :42 is the number of laws of cricket.\n"
     ]
    }
   ],
   "source": [
    "main()"
   ]
  },
  {
   "cell_type": "code",
   "execution_count": 6,
   "id": "015365a7-2980-4e3e-91f6-6ba87c3a5a8d",
   "metadata": {},
   "outputs": [],
   "source": [
    "name = \"Alice\"\n",
    "age=24"
   ]
  },
  {
   "cell_type": "code",
   "execution_count": 11,
   "id": "d8ea9a32-4669-4ff9-a971-b1c19304f285",
   "metadata": {},
   "outputs": [
    {
     "name": "stdout",
     "output_type": "stream",
     "text": [
      "my name is {name} and my age is {age}\n"
     ]
    }
   ],
   "source": [
    "print(\"my name is {name} and my age is {age}\")"
   ]
  },
  {
   "cell_type": "code",
   "execution_count": 12,
   "id": "bd92b37b-b94f-4821-a3aa-a3e9483b6552",
   "metadata": {},
   "outputs": [
    {
     "name": "stdout",
     "output_type": "stream",
     "text": [
      "my name is Alice and my age is 24\n"
     ]
    }
   ],
   "source": [
    "print(f\"my name is {name} and my age is {age}\")"
   ]
  },
  {
   "cell_type": "code",
   "execution_count": null,
   "id": "2d83c65c-217f-4383-b00d-4a8f1ce74ec3",
   "metadata": {},
   "outputs": [],
   "source": []
  }
 ],
 "metadata": {
  "kernelspec": {
   "display_name": "Python 3 (ipykernel)",
   "language": "python",
   "name": "python3"
  },
  "language_info": {
   "codemirror_mode": {
    "name": "ipython",
    "version": 3
   },
   "file_extension": ".py",
   "mimetype": "text/x-python",
   "name": "python",
   "nbconvert_exporter": "python",
   "pygments_lexer": "ipython3",
   "version": "3.12.7"
  }
 },
 "nbformat": 4,
 "nbformat_minor": 5
}
