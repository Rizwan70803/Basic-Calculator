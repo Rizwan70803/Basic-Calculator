{
 "cells": [
  {
   "cell_type": "code",
   "execution_count": 36,
   "id": "cf17b8c8-5dcd-461d-91a9-346a6b640ba9",
   "metadata": {},
   "outputs": [
    {
     "name": "stdout",
     "output_type": "stream",
     "text": [
      "T-statistic: -2.12\n",
      "P-value: 0.0266\n",
      "Highly Effective\n"
     ]
    }
   ],
   "source": [
    "# Step 1: Import necessary libraries\n",
    "import numpy as np\n",
    "from scipy.stats import ttest_ind\n",
    "\n",
    "# Step 2: Data for the two groups\n",
    "group_a = [7, 7, 6, 7, 8, 7, 8, 7]  # Unvaccinated group\n",
    "group_b = [6, 7, 6, 7, 7, 6, 6, 7]  # Vaccinated group\n",
    "\n",
    "# Step 3: Perform the independent T-test\n",
    "t_stat, p_value =ttest_ind(group_b, group_a,equal_var=False,alternative = 'less')\n",
    "\n",
    "# Step 4: Print results\n",
    "print(f\"T-statistic: {t_stat:.2f}\")\n",
    "print(f\"P-value: {p_value:.4f}\")\n",
    "\n",
    "# Step 5: Interpret the results\n",
    "alpha =0.05 # Significance level\n",
    "if p_value < alpha:\n",
    "    print(\"Highly Effective\")\n",
    "else:\n",
    "    print(\"Not Effective\")\n"
   ]
  },
  {
   "cell_type": "code",
   "execution_count": null,
   "id": "f1523909-b218-4dbf-b400-0c4b612fa888",
   "metadata": {},
   "outputs": [],
   "source": []
  }
 ],
 "metadata": {
  "kernelspec": {
   "display_name": "Python 3 (ipykernel)",
   "language": "python",
   "name": "python3"
  },
  "language_info": {
   "codemirror_mode": {
    "name": "ipython",
    "version": 3
   },
   "file_extension": ".py",
   "mimetype": "text/x-python",
   "name": "python",
   "nbconvert_exporter": "python",
   "pygments_lexer": "ipython3",
   "version": "3.12.7"
  }
 },
 "nbformat": 4,
 "nbformat_minor": 5
}
